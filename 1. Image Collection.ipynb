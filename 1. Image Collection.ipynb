{
 "cells": [
  {
   "cell_type": "markdown",
   "metadata": {},
   "source": [
    "# 1. Import Dependencies"
   ]
  },
  {
   "cell_type": "code",
   "execution_count": 1,
   "metadata": {
    "scrolled": true
   },
   "outputs": [
    {
     "name": "stdout",
     "output_type": "stream",
     "text": [
      "Requirement already satisfied: opencv-python in d:\\study\\projects\\real-time object detection for assisting communication in non-verbal individuals\\verb_obj\\lib\\site-packages (4.8.0.74)\n",
      "Requirement already satisfied: numpy>=1.21.2 in d:\\study\\projects\\real-time object detection for assisting communication in non-verbal individuals\\verb_obj\\lib\\site-packages (from opencv-python) (1.23.5)\n"
     ]
    },
    {
     "name": "stderr",
     "output_type": "stream",
     "text": [
      "WARNING: Ignoring invalid distribution -pencv-python-headless (d:\\study\\projects\\real-time object detection for assisting communication in non-verbal individuals\\verb_obj\\lib\\site-packages)\n",
      "WARNING: Ignoring invalid distribution -rotobuf (d:\\study\\projects\\real-time object detection for assisting communication in non-verbal individuals\\verb_obj\\lib\\site-packages)\n",
      "WARNING: Ignoring invalid distribution -pencv-python-headless (d:\\study\\projects\\real-time object detection for assisting communication in non-verbal individuals\\verb_obj\\lib\\site-packages)\n",
      "WARNING: Ignoring invalid distribution -rotobuf (d:\\study\\projects\\real-time object detection for assisting communication in non-verbal individuals\\verb_obj\\lib\\site-packages)\n",
      "\n",
      "[notice] A new release of pip is available: 23.1.2 -> 23.3.1\n",
      "[notice] To update, run: python.exe -m pip install --upgrade pip\n"
     ]
    }
   ],
   "source": [
    "!pip install opencv-python #Open Computer Vision (that helps us work with images & videos )"
   ]
  },
  {
   "cell_type": "code",
   "execution_count": 7,
   "metadata": {},
   "outputs": [],
   "source": [
    "# Import opencv\n",
    "import cv2 \n",
    "\n",
    "# Import uuid\n",
    "import uuid # this gives us unique Id \n",
    "\n",
    "# Import Operating System\n",
    "import os # To be comitable with Windos/Linux/MacOs\n",
    "\n",
    "# Import time\n",
    "import time"
   ]
  },
  {
   "cell_type": "markdown",
   "metadata": {},
   "source": [
    "# 2. Define Images to Collect"
   ]
  },
  {
   "cell_type": "code",
   "execution_count": 8,
   "metadata": {},
   "outputs": [],
   "source": [
    "# labels = ['A', 'B', 'C', 'D', 'E', 'F', 'G', 'H', 'I', 'J', 'K', 'L', 'M', 'N', 'O', 'P', 'Q', 'R', 'S', 'T', 'U', 'V', 'W', 'X', 'Y', 'Z']\n",
    "labels = ['M']\n",
    "number_imgs = 20"
   ]
  },
  {
   "cell_type": "markdown",
   "metadata": {},
   "source": [
    "# 3. Setup Folders "
   ]
  },
  {
   "cell_type": "code",
   "execution_count": 9,
   "metadata": {},
   "outputs": [],
   "source": [
    "IMAGES_PATH = os.path.join('Tensorflow', 'workspace', 'images', 'collectedimages')"
   ]
  },
  {
   "cell_type": "code",
   "execution_count": 10,
   "metadata": {},
   "outputs": [],
   "source": [
    "if not os.path.exists(IMAGES_PATH):\n",
    "    if os.name == 'posix':\n",
    "        !mkdir -p {IMAGES_PATH}\n",
    "    if os.name == 'nt':\n",
    "         !mkdir {IMAGES_PATH}\n",
    "for label in labels:\n",
    "    path = os.path.join(IMAGES_PATH, label)\n",
    "    if not os.path.exists(path):\n",
    "        !mkdir {path}"
   ]
  },
  {
   "cell_type": "markdown",
   "metadata": {},
   "source": [
    "# 4. Capture Images"
   ]
  },
  {
   "cell_type": "code",
   "execution_count": 45,
   "metadata": {},
   "outputs": [
    {
     "name": "stdout",
     "output_type": "stream",
     "text": [
      "Collecting images for L\n",
      "Collecting image 0\n",
      "Collecting image 1\n",
      "Collecting image 2\n",
      "Collecting image 3\n",
      "Collecting image 4\n",
      "Collecting image 5\n",
      "Collecting image 6\n",
      "Collecting image 7\n",
      "Collecting image 8\n",
      "Collecting image 9\n",
      "Collecting image 10\n",
      "Collecting image 11\n",
      "Collecting image 12\n",
      "Collecting image 13\n",
      "Collecting image 14\n",
      "Collecting image 15\n",
      "Collecting image 16\n",
      "Collecting image 17\n",
      "Collecting image 18\n",
      "Collecting image 19\n"
     ]
    }
   ],
   "source": [
    "for label in labels:\n",
    "    cap = cv2.VideoCapture(0)\n",
    "    print('Collecting images for {}'.format(label))\n",
    "    time.sleep(5)\n",
    "    for imgnum in range(number_imgs):\n",
    "        print('Collecting image {}'.format(imgnum))\n",
    "        ret, frame = cap.read()\n",
    "        imgname = os.path.join(IMAGES_PATH,label,label+'.'+'{}.jpg'.format(str(uuid.uuid1())))\n",
    "        cv2.imwrite(imgname, frame)\n",
    "        cv2.imshow('frame', frame)\n",
    "        time.sleep(2)\n",
    "\n",
    "        if cv2.waitKey(1) & 0xFF == ord('q'):\n",
    "            break\n",
    "cap.release()\n",
    "cv2.destroyAllWindows()"
   ]
  },
  {
   "cell_type": "markdown",
   "metadata": {},
   "source": [
    "# 5. Image Labelling"
   ]
  },
  {
   "cell_type": "code",
   "execution_count": 11,
   "metadata": {
    "scrolled": true
   },
   "outputs": [
    {
     "name": "stdout",
     "output_type": "stream",
     "text": [
      "Requirement already satisfied: pyqt5 in d:\\study\\projects\\real-time object detection for assisting communication in non-verbal individuals\\verb_obj\\lib\\site-packages (5.15.9)\n",
      "Requirement already satisfied: lxml in d:\\study\\projects\\real-time object detection for assisting communication in non-verbal individuals\\verb_obj\\lib\\site-packages (4.9.2)\n",
      "Requirement already satisfied: PyQt5-sip<13,>=12.11 in d:\\study\\projects\\real-time object detection for assisting communication in non-verbal individuals\\verb_obj\\lib\\site-packages (from pyqt5) (12.12.1)\n",
      "Requirement already satisfied: PyQt5-Qt5>=5.15.2 in d:\\study\\projects\\real-time object detection for assisting communication in non-verbal individuals\\verb_obj\\lib\\site-packages (from pyqt5) (5.15.2)\n"
     ]
    },
    {
     "name": "stderr",
     "output_type": "stream",
     "text": [
      "WARNING: Ignoring invalid distribution -pencv-python-headless (d:\\study\\projects\\real-time object detection for assisting communication in non-verbal individuals\\verb_obj\\lib\\site-packages)\n",
      "WARNING: Ignoring invalid distribution -rotobuf (d:\\study\\projects\\real-time object detection for assisting communication in non-verbal individuals\\verb_obj\\lib\\site-packages)\n",
      "WARNING: Ignoring invalid distribution -pencv-python-headless (d:\\study\\projects\\real-time object detection for assisting communication in non-verbal individuals\\verb_obj\\lib\\site-packages)\n",
      "WARNING: Ignoring invalid distribution -rotobuf (d:\\study\\projects\\real-time object detection for assisting communication in non-verbal individuals\\verb_obj\\lib\\site-packages)\n"
     ]
    }
   ],
   "source": [
    "!pip install --upgrade pyqt5 lxml"
   ]
  },
  {
   "cell_type": "code",
   "execution_count": 12,
   "metadata": {},
   "outputs": [],
   "source": [
    "LABELIMG_PATH = os.path.join('Tensorflow', 'labelimg')"
   ]
  },
  {
   "cell_type": "code",
   "execution_count": 13,
   "metadata": {},
   "outputs": [],
   "source": [
    "if not os.path.exists(LABELIMG_PATH):\n",
    "    !mkdir {LABELIMG_PATH}\n",
    "    !git clone https://github.com/tzutalin/labelImg {LABELIMG_PATH}"
   ]
  },
  {
   "cell_type": "code",
   "execution_count": 14,
   "metadata": {},
   "outputs": [],
   "source": [
    "if os.name == 'posix':\n",
    "    !make qt5py3\n",
    "if os.name =='nt':\n",
    "    !cd {LABELIMG_PATH} && pyrcc5 -o libs/resources.py resources.qrc"
   ]
  },
  {
   "cell_type": "code",
   "execution_count": 15,
   "metadata": {},
   "outputs": [
    {
     "name": "stdout",
     "output_type": "stream",
     "text": [
      "Image:D:\\Study\\Projects\\REAL-TIME OBJECT DETECTION FOR ASSISTING COMMUNICATION IN NON-VERBAL INDIVIDUALS\\Tensorflow\\workspace\\images\\collectedimages\\B\\B.b3b14e81-177a-11ee-96da-2811a889ff48.jpg -> Annotation:D:/Study/Projects/REAL-TIME OBJECT DETECTION FOR ASSISTING COMMUNICATION IN NON-VERBAL INDIVIDUALS/Tensorflow/workspace/images/collectedimages/B\\B.b3b14e81-177a-11ee-96da-2811a889ff48.xml\n",
      "Cancel creation.\n",
      "Image:D:\\Study\\Projects\\REAL-TIME OBJECT DETECTION FOR ASSISTING COMMUNICATION IN NON-VERBAL INDIVIDUALS\\Tensorflow\\workspace\\images\\collectedimages\\B\\B.b4f622ab-177a-11ee-bb7d-2811a889ff48.jpg -> Annotation:D:/Study/Projects/REAL-TIME OBJECT DETECTION FOR ASSISTING COMMUNICATION IN NON-VERBAL INDIVIDUALS/Tensorflow/workspace/images/collectedimages/B\\B.b4f622ab-177a-11ee-bb7d-2811a889ff48.xml\n",
      "Image:D:\\Study\\Projects\\REAL-TIME OBJECT DETECTION FOR ASSISTING COMMUNICATION IN NON-VERBAL INDIVIDUALS\\Tensorflow\\workspace\\images\\collectedimages\\B\\B.b9d6e143-177a-11ee-8d86-2811a889ff48.jpg -> Annotation:D:/Study/Projects/REAL-TIME OBJECT DETECTION FOR ASSISTING COMMUNICATION IN NON-VERBAL INDIVIDUALS/Tensorflow/workspace/images/collectedimages/B\\B.b9d6e143-177a-11ee-8d86-2811a889ff48.xml\n",
      "Image:D:\\Study\\Projects\\REAL-TIME OBJECT DETECTION FOR ASSISTING COMMUNICATION IN NON-VERBAL INDIVIDUALS\\Tensorflow\\workspace\\images\\collectedimages\\B\\B.b76c7ea6-177a-11ee-8ec0-2811a889ff48.jpg -> Annotation:D:/Study/Projects/REAL-TIME OBJECT DETECTION FOR ASSISTING COMMUNICATION IN NON-VERBAL INDIVIDUALS/Tensorflow/workspace/images/collectedimages/B\\B.b76c7ea6-177a-11ee-8ec0-2811a889ff48.xml\n",
      "Image:D:\\Study\\Projects\\REAL-TIME OBJECT DETECTION FOR ASSISTING COMMUNICATION IN NON-VERBAL INDIVIDUALS\\Tensorflow\\workspace\\images\\collectedimages\\B\\B.b6374d99-177a-11ee-9a24-2811a889ff48.jpg -> Annotation:D:/Study/Projects/REAL-TIME OBJECT DETECTION FOR ASSISTING COMMUNICATION IN NON-VERBAL INDIVIDUALS/Tensorflow/workspace/images/collectedimages/B\\B.b6374d99-177a-11ee-9a24-2811a889ff48.xml\n",
      "Image:D:\\Study\\Projects\\REAL-TIME OBJECT DETECTION FOR ASSISTING COMMUNICATION IN NON-VERBAL INDIVIDUALS\\Tensorflow\\workspace\\images\\collectedimages\\B\\B.bb0bae79-177a-11ee-bf2a-2811a889ff48.jpg -> Annotation:D:/Study/Projects/REAL-TIME OBJECT DETECTION FOR ASSISTING COMMUNICATION IN NON-VERBAL INDIVIDUALS/Tensorflow/workspace/images/collectedimages/B\\B.bb0bae79-177a-11ee-bf2a-2811a889ff48.xml\n",
      "Image:D:\\Study\\Projects\\REAL-TIME OBJECT DETECTION FOR ASSISTING COMMUNICATION IN NON-VERBAL INDIVIDUALS\\Tensorflow\\workspace\\images\\collectedimages\\B\\B.bc3fca15-177a-11ee-ae3d-2811a889ff48.jpg -> Annotation:D:/Study/Projects/REAL-TIME OBJECT DETECTION FOR ASSISTING COMMUNICATION IN NON-VERBAL INDIVIDUALS/Tensorflow/workspace/images/collectedimages/B\\B.bc3fca15-177a-11ee-ae3d-2811a889ff48.xml\n",
      "Image:D:\\Study\\Projects\\REAL-TIME OBJECT DETECTION FOR ASSISTING COMMUNICATION IN NON-VERBAL INDIVIDUALS\\Tensorflow\\workspace\\images\\collectedimages\\B\\B.bd752e41-177a-11ee-a154-2811a889ff48.jpg -> Annotation:D:/Study/Projects/REAL-TIME OBJECT DETECTION FOR ASSISTING COMMUNICATION IN NON-VERBAL INDIVIDUALS/Tensorflow/workspace/images/collectedimages/B\\B.bd752e41-177a-11ee-a154-2811a889ff48.xml\n",
      "Image:D:\\Study\\Projects\\REAL-TIME OBJECT DETECTION FOR ASSISTING COMMUNICATION IN NON-VERBAL INDIVIDUALS\\Tensorflow\\workspace\\images\\collectedimages\\B\\B.beab4128-177a-11ee-a985-2811a889ff48.jpg -> Annotation:D:/Study/Projects/REAL-TIME OBJECT DETECTION FOR ASSISTING COMMUNICATION IN NON-VERBAL INDIVIDUALS/Tensorflow/workspace/images/collectedimages/B\\B.beab4128-177a-11ee-a985-2811a889ff48.xml\n",
      "Image:D:\\Study\\Projects\\REAL-TIME OBJECT DETECTION FOR ASSISTING COMMUNICATION IN NON-VERBAL INDIVIDUALS\\Tensorflow\\workspace\\images\\collectedimages\\B\\B.c4b37fc9-177a-11ee-8cdc-2811a889ff48.jpg -> Annotation:D:/Study/Projects/REAL-TIME OBJECT DETECTION FOR ASSISTING COMMUNICATION IN NON-VERBAL INDIVIDUALS/Tensorflow/workspace/images/collectedimages/B\\B.c4b37fc9-177a-11ee-8cdc-2811a889ff48.xml\n",
      "Image:D:\\Study\\Projects\\REAL-TIME OBJECT DETECTION FOR ASSISTING COMMUNICATION IN NON-VERBAL INDIVIDUALS\\Tensorflow\\workspace\\images\\collectedimages\\B\\B.c5e98385-177a-11ee-ab6b-2811a889ff48.jpg -> Annotation:D:/Study/Projects/REAL-TIME OBJECT DETECTION FOR ASSISTING COMMUNICATION IN NON-VERBAL INDIVIDUALS/Tensorflow/workspace/images/collectedimages/B\\B.c5e98385-177a-11ee-ab6b-2811a889ff48.xml\n",
      "Image:D:\\Study\\Projects\\REAL-TIME OBJECT DETECTION FOR ASSISTING COMMUNICATION IN NON-VERBAL INDIVIDUALS\\Tensorflow\\workspace\\images\\collectedimages\\B\\B.c24b88a2-177a-11ee-9208-2811a889ff48.jpg -> Annotation:D:/Study/Projects/REAL-TIME OBJECT DETECTION FOR ASSISTING COMMUNICATION IN NON-VERBAL INDIVIDUALS/Tensorflow/workspace/images/collectedimages/B\\B.c24b88a2-177a-11ee-9208-2811a889ff48.xml\n",
      "Image:D:\\Study\\Projects\\REAL-TIME OBJECT DETECTION FOR ASSISTING COMMUNICATION IN NON-VERBAL INDIVIDUALS\\Tensorflow\\workspace\\images\\collectedimages\\B\\B.c37f505c-177a-11ee-bbc3-2811a889ff48.jpg -> Annotation:D:/Study/Projects/REAL-TIME OBJECT DETECTION FOR ASSISTING COMMUNICATION IN NON-VERBAL INDIVIDUALS/Tensorflow/workspace/images/collectedimages/B\\B.c37f505c-177a-11ee-bbc3-2811a889ff48.xml\n",
      "Image:D:\\Study\\Projects\\REAL-TIME OBJECT DETECTION FOR ASSISTING COMMUNICATION IN NON-VERBAL INDIVIDUALS\\Tensorflow\\workspace\\images\\collectedimages\\B\\B.c71d67ad-177a-11ee-9f55-2811a889ff48.jpg -> Annotation:D:/Study/Projects/REAL-TIME OBJECT DETECTION FOR ASSISTING COMMUNICATION IN NON-VERBAL INDIVIDUALS/Tensorflow/workspace/images/collectedimages/B\\B.c71d67ad-177a-11ee-9f55-2811a889ff48.xml\n",
      "Image:D:\\Study\\Projects\\REAL-TIME OBJECT DETECTION FOR ASSISTING COMMUNICATION IN NON-VERBAL INDIVIDUALS\\Tensorflow\\workspace\\images\\collectedimages\\B\\B.c987001f-177a-11ee-aa2d-2811a889ff48.jpg -> Annotation:D:/Study/Projects/REAL-TIME OBJECT DETECTION FOR ASSISTING COMMUNICATION IN NON-VERBAL INDIVIDUALS/Tensorflow/workspace/images/collectedimages/B\\B.c987001f-177a-11ee-aa2d-2811a889ff48.xml\n",
      "Image:D:\\Study\\Projects\\REAL-TIME OBJECT DETECTION FOR ASSISTING COMMUNICATION IN NON-VERBAL INDIVIDUALS\\Tensorflow\\workspace\\images\\collectedimages\\B\\B.c1159075-177a-11ee-bf1c-2811a889ff48.jpg -> Annotation:D:/Study/Projects/REAL-TIME OBJECT DETECTION FOR ASSISTING COMMUNICATION IN NON-VERBAL INDIVIDUALS/Tensorflow/workspace/images/collectedimages/B\\B.c1159075-177a-11ee-bf1c-2811a889ff48.xml\n",
      "Image:D:\\Study\\Projects\\REAL-TIME OBJECT DETECTION FOR ASSISTING COMMUNICATION IN NON-VERBAL INDIVIDUALS\\Tensorflow\\workspace\\images\\collectedimages\\B\\B.c8511580-177a-11ee-a16a-2811a889ff48.jpg -> Annotation:D:/Study/Projects/REAL-TIME OBJECT DETECTION FOR ASSISTING COMMUNICATION IN NON-VERBAL INDIVIDUALS/Tensorflow/workspace/images/collectedimages/B\\B.c8511580-177a-11ee-a16a-2811a889ff48.xml\n",
      "Cancel creation.\n",
      "Image:D:\\Study\\Projects\\REAL-TIME OBJECT DETECTION FOR ASSISTING COMMUNICATION IN NON-VERBAL INDIVIDUALS\\Tensorflow\\workspace\\images\\collectedimages\\B\\B.cabd1718-177a-11ee-a5dd-2811a889ff48.jpg -> Annotation:D:/Study/Projects/REAL-TIME OBJECT DETECTION FOR ASSISTING COMMUNICATION IN NON-VERBAL INDIVIDUALS/Tensorflow/workspace/images/collectedimages/B\\B.cabd1718-177a-11ee-a5dd-2811a889ff48.xml\n",
      "Image:D:\\Study\\Projects\\REAL-TIME OBJECT DETECTION FOR ASSISTING COMMUNICATION IN NON-VERBAL INDIVIDUALS\\Tensorflow\\workspace\\images\\collectedimages\\C\\C.1ac48304-177b-11ee-a6dd-2811a889ff48.jpg -> Annotation:D:/Study/Projects/REAL-TIME OBJECT DETECTION FOR ASSISTING COMMUNICATION IN NON-VERBAL INDIVIDUALS/Tensorflow/workspace/images/collectedimages/C\\C.1ac48304-177b-11ee-a6dd-2811a889ff48.xml\n",
      "Image:D:\\Study\\Projects\\REAL-TIME OBJECT DETECTION FOR ASSISTING COMMUNICATION IN NON-VERBAL INDIVIDUALS\\Tensorflow\\workspace\\images\\collectedimages\\C\\C.1bf80ef6-177b-11ee-80c4-2811a889ff48.jpg -> Annotation:D:/Study/Projects/REAL-TIME OBJECT DETECTION FOR ASSISTING COMMUNICATION IN NON-VERBAL INDIVIDUALS/Tensorflow/workspace/images/collectedimages/C\\C.1bf80ef6-177b-11ee-80c4-2811a889ff48.xml\n",
      "Image:D:\\Study\\Projects\\REAL-TIME OBJECT DETECTION FOR ASSISTING COMMUNICATION IN NON-VERBAL INDIVIDUALS\\Tensorflow\\workspace\\images\\collectedimages\\C\\C.1d2bea0a-177b-11ee-b848-2811a889ff48.jpg -> Annotation:D:/Study/Projects/REAL-TIME OBJECT DETECTION FOR ASSISTING COMMUNICATION IN NON-VERBAL INDIVIDUALS/Tensorflow/workspace/images/collectedimages/C\\C.1d2bea0a-177b-11ee-b848-2811a889ff48.xml\n",
      "Image:D:\\Study\\Projects\\REAL-TIME OBJECT DETECTION FOR ASSISTING COMMUNICATION IN NON-VERBAL INDIVIDUALS\\Tensorflow\\workspace\\images\\collectedimages\\C\\C.1e612d0a-177b-11ee-89c3-2811a889ff48.jpg -> Annotation:D:/Study/Projects/REAL-TIME OBJECT DETECTION FOR ASSISTING COMMUNICATION IN NON-VERBAL INDIVIDUALS/Tensorflow/workspace/images/collectedimages/C\\C.1e612d0a-177b-11ee-89c3-2811a889ff48.xml\n",
      "Image:D:\\Study\\Projects\\REAL-TIME OBJECT DETECTION FOR ASSISTING COMMUNICATION IN NON-VERBAL INDIVIDUALS\\Tensorflow\\workspace\\images\\collectedimages\\C\\C.1f94f4b4-177b-11ee-8eb7-2811a889ff48.jpg -> Annotation:D:/Study/Projects/REAL-TIME OBJECT DETECTION FOR ASSISTING COMMUNICATION IN NON-VERBAL INDIVIDUALS/Tensorflow/workspace/images/collectedimages/C\\C.1f94f4b4-177b-11ee-8eb7-2811a889ff48.xml\n",
      "Image:D:\\Study\\Projects\\REAL-TIME OBJECT DETECTION FOR ASSISTING COMMUNICATION IN NON-VERBAL INDIVIDUALS\\Tensorflow\\workspace\\images\\collectedimages\\C\\C.14b2dd80-177b-11ee-9827-2811a889ff48.jpg -> Annotation:D:/Study/Projects/REAL-TIME OBJECT DETECTION FOR ASSISTING COMMUNICATION IN NON-VERBAL INDIVIDUALS/Tensorflow/workspace/images/collectedimages/C\\C.14b2dd80-177b-11ee-9827-2811a889ff48.xml\n",
      "Image:D:\\Study\\Projects\\REAL-TIME OBJECT DETECTION FOR ASSISTING COMMUNICATION IN NON-VERBAL INDIVIDUALS\\Tensorflow\\workspace\\images\\collectedimages\\C\\C.15efd6e7-177b-11ee-8bdb-2811a889ff48.jpg -> Annotation:D:/Study/Projects/REAL-TIME OBJECT DETECTION FOR ASSISTING COMMUNICATION IN NON-VERBAL INDIVIDUALS/Tensorflow/workspace/images/collectedimages/C\\C.15efd6e7-177b-11ee-8bdb-2811a889ff48.xml\n",
      "Image:D:\\Study\\Projects\\REAL-TIME OBJECT DETECTION FOR ASSISTING COMMUNICATION IN NON-VERBAL INDIVIDUALS\\Tensorflow\\workspace\\images\\collectedimages\\C\\C.21fe476b-177b-11ee-bd77-2811a889ff48.jpg -> Annotation:D:/Study/Projects/REAL-TIME OBJECT DETECTION FOR ASSISTING COMMUNICATION IN NON-VERBAL INDIVIDUALS/Tensorflow/workspace/images/collectedimages/C\\C.21fe476b-177b-11ee-bd77-2811a889ff48.xml\n",
      "Image:D:\\Study\\Projects\\REAL-TIME OBJECT DETECTION FOR ASSISTING COMMUNICATION IN NON-VERBAL INDIVIDUALS\\Tensorflow\\workspace\\images\\collectedimages\\C\\C.293cbee7-177b-11ee-9691-2811a889ff48.jpg -> Annotation:D:/Study/Projects/REAL-TIME OBJECT DETECTION FOR ASSISTING COMMUNICATION IN NON-VERBAL INDIVIDUALS/Tensorflow/workspace/images/collectedimages/C\\C.293cbee7-177b-11ee-9691-2811a889ff48.xml\n",
      "Image:D:\\Study\\Projects\\REAL-TIME OBJECT DETECTION FOR ASSISTING COMMUNICATION IN NON-VERBAL INDIVIDUALS\\Tensorflow\\workspace\\images\\collectedimages\\C\\C.1371a2e3-177b-11ee-88ec-2811a889ff48.jpg -> Annotation:D:/Study/Projects/REAL-TIME OBJECT DETECTION FOR ASSISTING COMMUNICATION IN NON-VERBAL INDIVIDUALS/Tensorflow/workspace/images/collectedimages/C\\C.1371a2e3-177b-11ee-88ec-2811a889ff48.xml\n",
      "Image:D:\\Study\\Projects\\REAL-TIME OBJECT DETECTION FOR ASSISTING COMMUNICATION IN NON-VERBAL INDIVIDUALS\\Tensorflow\\workspace\\images\\collectedimages\\C\\C.172590c0-177b-11ee-91a6-2811a889ff48.jpg -> Annotation:D:/Study/Projects/REAL-TIME OBJECT DETECTION FOR ASSISTING COMMUNICATION IN NON-VERBAL INDIVIDUALS/Tensorflow/workspace/images/collectedimages/C\\C.172590c0-177b-11ee-91a6-2811a889ff48.xml\n",
      "Image:D:\\Study\\Projects\\REAL-TIME OBJECT DETECTION FOR ASSISTING COMMUNICATION IN NON-VERBAL INDIVIDUALS\\Tensorflow\\workspace\\images\\collectedimages\\C\\C.20ca4735-177b-11ee-b8dd-2811a889ff48.jpg -> Annotation:D:/Study/Projects/REAL-TIME OBJECT DETECTION FOR ASSISTING COMMUNICATION IN NON-VERBAL INDIVIDUALS/Tensorflow/workspace/images/collectedimages/C\\C.20ca4735-177b-11ee-b8dd-2811a889ff48.xml\n",
      "Image:D:\\Study\\Projects\\REAL-TIME OBJECT DETECTION FOR ASSISTING COMMUNICATION IN NON-VERBAL INDIVIDUALS\\Tensorflow\\workspace\\images\\collectedimages\\D\\D.5a298be6-177b-11ee-9a34-2811a889ff48.jpg -> Annotation:D:/Study/Projects/REAL-TIME OBJECT DETECTION FOR ASSISTING COMMUNICATION IN NON-VERBAL INDIVIDUALS/Tensorflow/workspace/images/collectedimages/D\\D.5a298be6-177b-11ee-9a34-2811a889ff48.xml\n",
      "Image:D:\\Study\\Projects\\REAL-TIME OBJECT DETECTION FOR ASSISTING COMMUNICATION IN NON-VERBAL INDIVIDUALS\\Tensorflow\\workspace\\images\\collectedimages\\D\\D.5b65d66a-177b-11ee-92d0-2811a889ff48.jpg -> Annotation:D:/Study/Projects/REAL-TIME OBJECT DETECTION FOR ASSISTING COMMUNICATION IN NON-VERBAL INDIVIDUALS/Tensorflow/workspace/images/collectedimages/D\\D.5b65d66a-177b-11ee-92d0-2811a889ff48.xml\n",
      "Image:D:\\Study\\Projects\\REAL-TIME OBJECT DETECTION FOR ASSISTING COMMUNICATION IN NON-VERBAL INDIVIDUALS\\Tensorflow\\workspace\\images\\collectedimages\\D\\D.5f04ab64-177b-11ee-a977-2811a889ff48.jpg -> Annotation:D:/Study/Projects/REAL-TIME OBJECT DETECTION FOR ASSISTING COMMUNICATION IN NON-VERBAL INDIVIDUALS/Tensorflow/workspace/images/collectedimages/D\\D.5f04ab64-177b-11ee-a977-2811a889ff48.xml\n",
      "Image:D:\\Study\\Projects\\REAL-TIME OBJECT DETECTION FOR ASSISTING COMMUNICATION IN NON-VERBAL INDIVIDUALS\\Tensorflow\\workspace\\images\\collectedimages\\D\\D.6b1b2254-177b-11ee-89cd-2811a889ff48.jpg -> Annotation:D:/Study/Projects/REAL-TIME OBJECT DETECTION FOR ASSISTING COMMUNICATION IN NON-VERBAL INDIVIDUALS/Tensorflow/workspace/images/collectedimages/D\\D.6b1b2254-177b-11ee-89cd-2811a889ff48.xml\n",
      "Image:D:\\Study\\Projects\\REAL-TIME OBJECT DETECTION FOR ASSISTING COMMUNICATION IN NON-VERBAL INDIVIDUALS\\Tensorflow\\workspace\\images\\collectedimages\\D\\D.6c527af8-177b-11ee-b3b7-2811a889ff48.jpg -> Annotation:D:/Study/Projects/REAL-TIME OBJECT DETECTION FOR ASSISTING COMMUNICATION IN NON-VERBAL INDIVIDUALS/Tensorflow/workspace/images/collectedimages/D\\D.6c527af8-177b-11ee-b3b7-2811a889ff48.xml\n",
      "Image:D:\\Study\\Projects\\REAL-TIME OBJECT DETECTION FOR ASSISTING COMMUNICATION IN NON-VERBAL INDIVIDUALS\\Tensorflow\\workspace\\images\\collectedimages\\D\\D.6d866563-177b-11ee-a95a-2811a889ff48.jpg -> Annotation:D:/Study/Projects/REAL-TIME OBJECT DETECTION FOR ASSISTING COMMUNICATION IN NON-VERBAL INDIVIDUALS/Tensorflow/workspace/images/collectedimages/D\\D.6d866563-177b-11ee-a95a-2811a889ff48.xml\n",
      "Image:D:\\Study\\Projects\\REAL-TIME OBJECT DETECTION FOR ASSISTING COMMUNICATION IN NON-VERBAL INDIVIDUALS\\Tensorflow\\workspace\\images\\collectedimages\\D\\D.6ebc316c-177b-11ee-ada2-2811a889ff48.jpg -> Annotation:D:/Study/Projects/REAL-TIME OBJECT DETECTION FOR ASSISTING COMMUNICATION IN NON-VERBAL INDIVIDUALS/Tensorflow/workspace/images/collectedimages/D\\D.6ebc316c-177b-11ee-ada2-2811a889ff48.xml\n",
      "Image:D:\\Study\\Projects\\REAL-TIME OBJECT DETECTION FOR ASSISTING COMMUNICATION IN NON-VERBAL INDIVIDUALS\\Tensorflow\\workspace\\images\\collectedimages\\D\\D.6ff09020-177b-11ee-8200-2811a889ff48.jpg -> Annotation:D:/Study/Projects/REAL-TIME OBJECT DETECTION FOR ASSISTING COMMUNICATION IN NON-VERBAL INDIVIDUALS/Tensorflow/workspace/images/collectedimages/D\\D.6ff09020-177b-11ee-8200-2811a889ff48.xml\n",
      "Image:D:\\Study\\Projects\\REAL-TIME OBJECT DETECTION FOR ASSISTING COMMUNICATION IN NON-VERBAL INDIVIDUALS\\Tensorflow\\workspace\\images\\collectedimages\\D\\D.58e5f2c5-177b-11ee-a032-2811a889ff48.jpg -> Annotation:D:/Study/Projects/REAL-TIME OBJECT DETECTION FOR ASSISTING COMMUNICATION IN NON-VERBAL INDIVIDUALS/Tensorflow/workspace/images/collectedimages/D\\D.58e5f2c5-177b-11ee-a032-2811a889ff48.xml\n",
      "Image:D:\\Study\\Projects\\REAL-TIME OBJECT DETECTION FOR ASSISTING COMMUNICATION IN NON-VERBAL INDIVIDUALS\\Tensorflow\\workspace\\images\\collectedimages\\D\\D.62a82dea-177b-11ee-89f8-2811a889ff48.jpg -> Annotation:D:/Study/Projects/REAL-TIME OBJECT DETECTION FOR ASSISTING COMMUNICATION IN NON-VERBAL INDIVIDUALS/Tensorflow/workspace/images/collectedimages/D\\D.62a82dea-177b-11ee-89f8-2811a889ff48.xml\n",
      "Image:D:\\Study\\Projects\\REAL-TIME OBJECT DETECTION FOR ASSISTING COMMUNICATION IN NON-VERBAL INDIVIDUALS\\Tensorflow\\workspace\\images\\collectedimages\\D\\D.63dc47bc-177b-11ee-a53b-2811a889ff48.jpg -> Annotation:D:/Study/Projects/REAL-TIME OBJECT DETECTION FOR ASSISTING COMMUNICATION IN NON-VERBAL INDIVIDUALS/Tensorflow/workspace/images/collectedimages/D\\D.63dc47bc-177b-11ee-a53b-2811a889ff48.xml\n",
      "Image:D:\\Study\\Projects\\REAL-TIME OBJECT DETECTION FOR ASSISTING COMMUNICATION IN NON-VERBAL INDIVIDUALS\\Tensorflow\\workspace\\images\\collectedimages\\D\\D.69e70802-177b-11ee-9a56-2811a889ff48.jpg -> Annotation:D:/Study/Projects/REAL-TIME OBJECT DETECTION FOR ASSISTING COMMUNICATION IN NON-VERBAL INDIVIDUALS/Tensorflow/workspace/images/collectedimages/D\\D.69e70802-177b-11ee-9a56-2811a889ff48.xml\n",
      "Image:D:\\Study\\Projects\\REAL-TIME OBJECT DETECTION FOR ASSISTING COMMUNICATION IN NON-VERBAL INDIVIDUALS\\Tensorflow\\workspace\\images\\collectedimages\\D\\D.603c4537-177b-11ee-8c1b-2811a889ff48.jpg -> Annotation:D:/Study/Projects/REAL-TIME OBJECT DETECTION FOR ASSISTING COMMUNICATION IN NON-VERBAL INDIVIDUALS/Tensorflow/workspace/images/collectedimages/D\\D.603c4537-177b-11ee-8c1b-2811a889ff48.xml\n",
      "Image:D:\\Study\\Projects\\REAL-TIME OBJECT DETECTION FOR ASSISTING COMMUNICATION IN NON-VERBAL INDIVIDUALS\\Tensorflow\\workspace\\images\\collectedimages\\D\\D.677b9d70-177b-11ee-92b5-2811a889ff48.jpg -> Annotation:D:/Study/Projects/REAL-TIME OBJECT DETECTION FOR ASSISTING COMMUNICATION IN NON-VERBAL INDIVIDUALS/Tensorflow/workspace/images/collectedimages/D\\D.677b9d70-177b-11ee-92b5-2811a889ff48.xml\n",
      "Image:D:\\Study\\Projects\\REAL-TIME OBJECT DETECTION FOR ASSISTING COMMUNICATION IN NON-VERBAL INDIVIDUALS\\Tensorflow\\workspace\\images\\collectedimages\\D\\D.6173c5d1-177b-11ee-bb42-2811a889ff48.jpg -> Annotation:D:/Study/Projects/REAL-TIME OBJECT DETECTION FOR ASSISTING COMMUNICATION IN NON-VERBAL INDIVIDUALS/Tensorflow/workspace/images/collectedimages/D\\D.6173c5d1-177b-11ee-bb42-2811a889ff48.xml\n",
      "Image:D:\\Study\\Projects\\REAL-TIME OBJECT DETECTION FOR ASSISTING COMMUNICATION IN NON-VERBAL INDIVIDUALS\\Tensorflow\\workspace\\images\\collectedimages\\D\\D.6511a56b-177b-11ee-87ef-2811a889ff48.jpg -> Annotation:D:/Study/Projects/REAL-TIME OBJECT DETECTION FOR ASSISTING COMMUNICATION IN NON-VERBAL INDIVIDUALS/Tensorflow/workspace/images/collectedimages/D\\D.6511a56b-177b-11ee-87ef-2811a889ff48.xml\n",
      "Image:D:\\Study\\Projects\\REAL-TIME OBJECT DETECTION FOR ASSISTING COMMUNICATION IN NON-VERBAL INDIVIDUALS\\Tensorflow\\workspace\\images\\collectedimages\\D\\D.664701c7-177b-11ee-8634-2811a889ff48.jpg -> Annotation:D:/Study/Projects/REAL-TIME OBJECT DETECTION FOR ASSISTING COMMUNICATION IN NON-VERBAL INDIVIDUALS/Tensorflow/workspace/images/collectedimages/D\\D.664701c7-177b-11ee-8634-2811a889ff48.xml\n",
      "Image:D:\\Study\\Projects\\REAL-TIME OBJECT DETECTION FOR ASSISTING COMMUNICATION IN NON-VERBAL INDIVIDUALS\\Tensorflow\\workspace\\images\\collectedimages\\E\\E.0a9f0220-177c-11ee-a5f1-2811a889ff48.jpg -> Annotation:D:/Study/Projects/REAL-TIME OBJECT DETECTION FOR ASSISTING COMMUNICATION IN NON-VERBAL INDIVIDUALS/Tensorflow/workspace/images/collectedimages/E\\E.0a9f0220-177c-11ee-a5f1-2811a889ff48.xml\n",
      "Image:D:\\Study\\Projects\\REAL-TIME OBJECT DETECTION FOR ASSISTING COMMUNICATION IN NON-VERBAL INDIVIDUALS\\Tensorflow\\workspace\\images\\collectedimages\\E\\E.0bd43ef7-177c-11ee-8b15-2811a889ff48.jpg -> Annotation:D:/Study/Projects/REAL-TIME OBJECT DETECTION FOR ASSISTING COMMUNICATION IN NON-VERBAL INDIVIDUALS/Tensorflow/workspace/images/collectedimages/E\\E.0bd43ef7-177c-11ee-8b15-2811a889ff48.xml\n",
      "Image:D:\\Study\\Projects\\REAL-TIME OBJECT DETECTION FOR ASSISTING COMMUNICATION IN NON-VERBAL INDIVIDUALS\\Tensorflow\\workspace\\images\\collectedimages\\E\\E.0d08190f-177c-11ee-820b-2811a889ff48.jpg -> Annotation:D:/Study/Projects/REAL-TIME OBJECT DETECTION FOR ASSISTING COMMUNICATION IN NON-VERBAL INDIVIDUALS/Tensorflow/workspace/images/collectedimages/E\\E.0d08190f-177c-11ee-820b-2811a889ff48.xml\n",
      "Image:D:\\Study\\Projects\\REAL-TIME OBJECT DETECTION FOR ASSISTING COMMUNICATION IN NON-VERBAL INDIVIDUALS\\Tensorflow\\workspace\\images\\collectedimages\\E\\E.0e3bb191-177c-11ee-9a68-2811a889ff48.jpg -> Annotation:D:/Study/Projects/REAL-TIME OBJECT DETECTION FOR ASSISTING COMMUNICATION IN NON-VERBAL INDIVIDUALS/Tensorflow/workspace/images/collectedimages/E\\E.0e3bb191-177c-11ee-9a68-2811a889ff48.xml\n",
      "Image:D:\\Study\\Projects\\REAL-TIME OBJECT DETECTION FOR ASSISTING COMMUNICATION IN NON-VERBAL INDIVIDUALS\\Tensorflow\\workspace\\images\\collectedimages\\E\\E.00ee6c9b-177c-11ee-a4d3-2811a889ff48.jpg -> Annotation:D:/Study/Projects/REAL-TIME OBJECT DETECTION FOR ASSISTING COMMUNICATION IN NON-VERBAL INDIVIDUALS/Tensorflow/workspace/images/collectedimages/E\\E.00ee6c9b-177c-11ee-a4d3-2811a889ff48.xml\n",
      "Image:D:\\Study\\Projects\\REAL-TIME OBJECT DETECTION FOR ASSISTING COMMUNICATION IN NON-VERBAL INDIVIDUALS\\Tensorflow\\workspace\\images\\collectedimages\\E\\E.0f6f18ec-177c-11ee-836d-2811a889ff48.jpg -> Annotation:D:/Study/Projects/REAL-TIME OBJECT DETECTION FOR ASSISTING COMMUNICATION IN NON-VERBAL INDIVIDUALS/Tensorflow/workspace/images/collectedimages/E\\E.0f6f18ec-177c-11ee-836d-2811a889ff48.xml\n"
     ]
    }
   ],
   "source": [
    "!cd {LABELIMG_PATH} && python labelImg.py"
   ]
  },
  {
   "cell_type": "markdown",
   "metadata": {},
   "source": [
    "# 6. Move them into a Training and Testing Partition"
   ]
  },
  {
   "cell_type": "markdown",
   "metadata": {},
   "source": [
    "# OPTIONAL - 7. Compress them for Colab Training"
   ]
  },
  {
   "cell_type": "code",
   "execution_count": 3,
   "metadata": {},
   "outputs": [],
   "source": [
    "TRAIN_PATH = os.path.join('Tensorflow', 'workspace', 'images', 'train')\n",
    "TEST_PATH = os.path.join('Tensorflow', 'workspace', 'images', 'test')\n",
    "ARCHIVE_PATH = os.path.join('Tensorflow', 'workspace', 'images', 'archive.tar.gz')"
   ]
  },
  {
   "cell_type": "code",
   "execution_count": 4,
   "metadata": {},
   "outputs": [],
   "source": [
    "!tar -czf {ARCHIVE_PATH} {TRAIN_PATH} {TEST_PATH}"
   ]
  }
 ],
 "metadata": {
  "kernelspec": {
   "display_name": "Verb_Obj",
   "language": "python",
   "name": "verb_obj"
  },
  "language_info": {
   "codemirror_mode": {
    "name": "ipython",
    "version": 3
   },
   "file_extension": ".py",
   "mimetype": "text/x-python",
   "name": "python",
   "nbconvert_exporter": "python",
   "pygments_lexer": "ipython3",
   "version": "3.10.11"
  }
 },
 "nbformat": 4,
 "nbformat_minor": 2
}
